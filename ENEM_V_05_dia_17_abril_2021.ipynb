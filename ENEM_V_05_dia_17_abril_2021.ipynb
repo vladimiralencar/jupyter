{
  "nbformat": 4,
  "nbformat_minor": 0,
  "metadata": {
    "kernelspec": {
      "display_name": "Python 3",
      "language": "python",
      "name": "python3"
    },
    "language_info": {
      "codemirror_mode": {
        "name": "ipython",
        "version": 3
      },
      "file_extension": ".py",
      "mimetype": "text/x-python",
      "name": "python",
      "nbconvert_exporter": "python",
      "pygments_lexer": "ipython3",
      "version": "3.8.5"
    },
    "colab": {
      "name": "ENEM-V-05-dia-17-abril-2021.ipynb",
      "provenance": [],
      "collapsed_sections": [
        "PnO-YRCc4d5C",
        "8qhSLPZB4d5o"
      ],
      "machine_shape": "hm",
      "include_colab_link": true
    },
    "accelerator": "GPU"
  },
  "cells": [
    {
      "cell_type": "markdown",
      "metadata": {
        "id": "view-in-github",
        "colab_type": "text"
      },
      "source": [
        "<a href=\"https://colab.research.google.com/github/vladimiralencar/jupyter/blob/master/ENEM_V_05_dia_17_abril_2021.ipynb\" target=\"_parent\"><img src=\"https://colab.research.google.com/assets/colab-badge.svg\" alt=\"Open In Colab\"/></a>"
      ]
    },
    {
      "cell_type": "markdown",
      "metadata": {
        "id": "k5lf00ouBHwN"
      },
      "source": [
        "# ENEM dados 2019"
      ]
    },
    {
      "cell_type": "code",
      "metadata": {
        "id": "4AD3-nkPJE91"
      },
      "source": [
        "# Referencia\n",
        "# https://www.linkedin.com/pulse/how-do-i-read-csv-file-from-google-drive-using-python-sigmundo/\n"
      ],
      "execution_count": 1,
      "outputs": []
    },
    {
      "cell_type": "code",
      "metadata": {
        "id": "-F3AWGEDNRHJ"
      },
      "source": [
        "# https://www.gov.br/inep/pt-br/acesso-a-informacao/dados-abertos/microdados/enem\n",
        "# https://towardsdatascience.com/3-ways-to-load-csv-files-into-colab-7c14fcbdcb92#:~:text=2)%20From%20a%20local%20drive&text=Click%20on%20%E2%80%9CChoose%20Files%E2%80%9D%20then,name%20of%20the%20uploaded%20file).\n",
        "# "
      ],
      "execution_count": 2,
      "outputs": []
    },
    {
      "cell_type": "code",
      "metadata": {
        "id": "9Oqdh6GIGc3A"
      },
      "source": [
        "!pip install -U -q PyDrive\n",
        "from pydrive.auth import GoogleAuth\n",
        "from pydrive.drive import GoogleDrive\n",
        "from google.colab import auth\n",
        "from oauth2client.client import GoogleCredentials"
      ],
      "execution_count": 3,
      "outputs": []
    },
    {
      "cell_type": "code",
      "metadata": {
        "id": "24fD40tGGiBi",
        "colab": {
          "base_uri": "https://localhost:8080/"
        },
        "outputId": "c37da437-a0f7-4442-c8ee-81cee0569eec"
      },
      "source": [
        "# autorizaçao\n",
        "auth.authenticate_user()\n",
        "gauth = GoogleAuth()\n",
        "gauth.credentials = GoogleCredentials.get_application_default()\n",
        "drive = GoogleDrive(gauth)\n",
        "drive"
      ],
      "execution_count": 5,
      "outputs": [
        {
          "output_type": "execute_result",
          "data": {
            "text/plain": [
              "<pydrive.drive.GoogleDrive at 0x7f0fa7a7cc90>"
            ]
          },
          "metadata": {
            "tags": []
          },
          "execution_count": 5
        }
      ]
    },
    {
      "cell_type": "code",
      "metadata": {
        "id": "29qBhu94EoOD"
      },
      "source": [
        "shared_link = 'https://drive.google.com/file/d/1jzut5bEZ-JoBmY9py2u8BG7XXZqmLPsk/view?usp=sharing'\n",
        "\n",
        "id = '1jzut5bEZ-JoBmY9py2u8BG7XXZqmLPsk'"
      ],
      "execution_count": 6,
      "outputs": []
    },
    {
      "cell_type": "code",
      "metadata": {
        "colab": {
          "base_uri": "https://localhost:8080/",
          "height": 35
        },
        "id": "Rkt1VkSqyn-v",
        "outputId": "b6abda40-1b3d-4b3d-d922-4012ee07052b"
      },
      "source": [
        "sl = (shared_link.split('/view')[0]).split('d/')[1]\n",
        "sl"
      ],
      "execution_count": 14,
      "outputs": [
        {
          "output_type": "execute_result",
          "data": {
            "application/vnd.google.colaboratory.intrinsic+json": {
              "type": "string"
            },
            "text/plain": [
              "'1jzut5bEZ-JoBmY9py2u8BG7XXZqmLPsk'"
            ]
          },
          "metadata": {
            "tags": []
          },
          "execution_count": 14
        }
      ]
    },
    {
      "cell_type": "code",
      "metadata": {
        "colab": {
          "base_uri": "https://localhost:8080/"
        },
        "id": "x3ihfhr5FjSn",
        "outputId": "9364fbb2-3ad6-454a-c814-1822152ed615"
      },
      "source": [
        "%%time\n",
        "\n",
        "file_id = id\n",
        "downloaded = drive.CreateFile({'id': file_id})\n",
        "#downloaded = drive.CreateFile({'id':'1BH-rffqv_1auzO7tdubfaOwXzf278vJK'}) # replace the id with id of file you want to access\n",
        "file = 'enem-2019.csv'\n",
        "downloaded.GetContentFile(file)  "
      ],
      "execution_count": 15,
      "outputs": [
        {
          "output_type": "stream",
          "text": [
            "CPU times: user 11.1 s, sys: 2.56 s, total: 13.6 s\n",
            "Wall time: 32.8 s\n"
          ],
          "name": "stdout"
        }
      ]
    },
    {
      "cell_type": "code",
      "metadata": {
        "colab": {
          "base_uri": "https://localhost:8080/"
        },
        "id": "LNLuPEVzGPkZ",
        "outputId": "ad8dea5c-5ecd-4511-ce03-39f3c2c21610"
      },
      "source": [
        "%%time\n",
        "# Read file as panda dataframe\n",
        "import pandas as pd\n",
        "df = pd.read_csv(file) \n",
        "len(df)"
      ],
      "execution_count": 18,
      "outputs": [
        {
          "output_type": "stream",
          "text": [
            "CPU times: user 30.9 s, sys: 5.51 s, total: 36.4 s\n",
            "Wall time: 36.3 s\n"
          ],
          "name": "stdout"
        }
      ]
    },
    {
      "cell_type": "code",
      "metadata": {
        "colab": {
          "base_uri": "https://localhost:8080/",
          "height": 270
        },
        "id": "f631ofy-HZd_",
        "outputId": "93445384-89be-4db7-c9dd-1bf8de02dc3b"
      },
      "source": [
        "df.head()"
      ],
      "execution_count": 9,
      "outputs": [
        {
          "output_type": "execute_result",
          "data": {
            "text/html": [
              "<div>\n",
              "<style scoped>\n",
              "    .dataframe tbody tr th:only-of-type {\n",
              "        vertical-align: middle;\n",
              "    }\n",
              "\n",
              "    .dataframe tbody tr th {\n",
              "        vertical-align: top;\n",
              "    }\n",
              "\n",
              "    .dataframe thead th {\n",
              "        text-align: right;\n",
              "    }\n",
              "</style>\n",
              "<table border=\"1\" class=\"dataframe\">\n",
              "  <thead>\n",
              "    <tr style=\"text-align: right;\">\n",
              "      <th></th>\n",
              "      <th>NU_INSCRICAO</th>\n",
              "      <th>NU_ANO</th>\n",
              "      <th>CO_MUNICIPIO_RESIDENCIA</th>\n",
              "      <th>NO_MUNICIPIO_RESIDENCIA</th>\n",
              "      <th>CO_UF_RESIDENCIA</th>\n",
              "      <th>SG_UF_RESIDENCIA</th>\n",
              "      <th>NU_IDADE</th>\n",
              "      <th>TP_SEXO</th>\n",
              "      <th>TP_ESTADO_CIVIL</th>\n",
              "      <th>TP_COR_RACA</th>\n",
              "      <th>TP_NACIONALIDADE</th>\n",
              "      <th>CO_MUNICIPIO_NASCIMENTO</th>\n",
              "      <th>NO_MUNICIPIO_NASCIMENTO</th>\n",
              "      <th>CO_UF_NASCIMENTO</th>\n",
              "      <th>SG_UF_NASCIMENTO</th>\n",
              "      <th>TP_ST_CONCLUSAO</th>\n",
              "      <th>TP_ANO_CONCLUIU</th>\n",
              "      <th>TP_ESCOLA</th>\n",
              "      <th>TP_ENSINO</th>\n",
              "      <th>IN_TREINEIRO</th>\n",
              "      <th>CO_ESCOLA</th>\n",
              "      <th>CO_MUNICIPIO_ESC</th>\n",
              "      <th>NO_MUNICIPIO_ESC</th>\n",
              "      <th>CO_UF_ESC</th>\n",
              "      <th>SG_UF_ESC</th>\n",
              "      <th>TP_DEPENDENCIA_ADM_ESC</th>\n",
              "      <th>TP_LOCALIZACAO_ESC</th>\n",
              "      <th>TP_SIT_FUNC_ESC</th>\n",
              "      <th>IN_BAIXA_VISAO</th>\n",
              "      <th>IN_CEGUEIRA</th>\n",
              "      <th>IN_SURDEZ</th>\n",
              "      <th>IN_DEFICIENCIA_AUDITIVA</th>\n",
              "      <th>IN_SURDO_CEGUEIRA</th>\n",
              "      <th>IN_DEFICIENCIA_FISICA</th>\n",
              "      <th>IN_DEFICIENCIA_MENTAL</th>\n",
              "      <th>IN_DEFICIT_ATENCAO</th>\n",
              "      <th>IN_DISLEXIA</th>\n",
              "      <th>IN_DISCALCULIA</th>\n",
              "      <th>IN_AUTISMO</th>\n",
              "      <th>IN_VISAO_MONOCULAR</th>\n",
              "      <th>...</th>\n",
              "      <th>IN_PROVA_DEITADO</th>\n",
              "      <th>IN_MOBILIARIO_OBESO</th>\n",
              "      <th>IN_LAMINA_OVERLAY</th>\n",
              "      <th>IN_PROTETOR_AURICULAR</th>\n",
              "      <th>IN_MEDIDOR_GLICOSE</th>\n",
              "      <th>IN_MAQUINA_BRAILE</th>\n",
              "      <th>IN_SOROBAN</th>\n",
              "      <th>IN_MARCA_PASSO</th>\n",
              "      <th>IN_SONDA</th>\n",
              "      <th>IN_MEDICAMENTOS</th>\n",
              "      <th>IN_SALA_INDIVIDUAL</th>\n",
              "      <th>IN_SALA_ESPECIAL</th>\n",
              "      <th>IN_SALA_ACOMPANHANTE</th>\n",
              "      <th>IN_MOBILIARIO_ESPECIFICO</th>\n",
              "      <th>IN_MATERIAL_ESPECIFICO</th>\n",
              "      <th>IN_NOME_SOCIAL</th>\n",
              "      <th>CO_MUNICIPIO_PROVA</th>\n",
              "      <th>NO_MUNICIPIO_PROVA</th>\n",
              "      <th>CO_UF_PROVA</th>\n",
              "      <th>SG_UF_PROVA</th>\n",
              "      <th>TP_PRESENCA_CN</th>\n",
              "      <th>TP_PRESENCA_CH</th>\n",
              "      <th>TP_PRESENCA_LC</th>\n",
              "      <th>TP_PRESENCA_MT</th>\n",
              "      <th>CO_PROVA_CN</th>\n",
              "      <th>CO_PROVA_CH</th>\n",
              "      <th>CO_PROVA_LC</th>\n",
              "      <th>CO_PROVA_MT</th>\n",
              "      <th>NU_NOTA_CN</th>\n",
              "      <th>NU_NOTA_CH</th>\n",
              "      <th>NU_NOTA_LC</th>\n",
              "      <th>NU_NOTA_MT</th>\n",
              "      <th>TP_LINGUA</th>\n",
              "      <th>TP_STATUS_REDACAO</th>\n",
              "      <th>NU_NOTA_COMP1</th>\n",
              "      <th>NU_NOTA_COMP2</th>\n",
              "      <th>NU_NOTA_COMP3</th>\n",
              "      <th>NU_NOTA_COMP4</th>\n",
              "      <th>NU_NOTA_COMP5</th>\n",
              "      <th>NU_NOTA_REDACAO</th>\n",
              "    </tr>\n",
              "  </thead>\n",
              "  <tbody>\n",
              "    <tr>\n",
              "      <th>0</th>\n",
              "      <td>190001004627</td>\n",
              "      <td>2019</td>\n",
              "      <td>1506807</td>\n",
              "      <td>Santarém</td>\n",
              "      <td>15</td>\n",
              "      <td>PA</td>\n",
              "      <td>21</td>\n",
              "      <td>M</td>\n",
              "      <td>1</td>\n",
              "      <td>3</td>\n",
              "      <td>4</td>\n",
              "      <td>NaN</td>\n",
              "      <td>NaN</td>\n",
              "      <td>NaN</td>\n",
              "      <td>NaN</td>\n",
              "      <td>1</td>\n",
              "      <td>3</td>\n",
              "      <td>1</td>\n",
              "      <td>NaN</td>\n",
              "      <td>0</td>\n",
              "      <td>NaN</td>\n",
              "      <td>NaN</td>\n",
              "      <td>NaN</td>\n",
              "      <td>NaN</td>\n",
              "      <td>NaN</td>\n",
              "      <td>NaN</td>\n",
              "      <td>NaN</td>\n",
              "      <td>NaN</td>\n",
              "      <td>0</td>\n",
              "      <td>0</td>\n",
              "      <td>0</td>\n",
              "      <td>0</td>\n",
              "      <td>0</td>\n",
              "      <td>0</td>\n",
              "      <td>0</td>\n",
              "      <td>0</td>\n",
              "      <td>0</td>\n",
              "      <td>0</td>\n",
              "      <td>0</td>\n",
              "      <td>0</td>\n",
              "      <td>...</td>\n",
              "      <td>0</td>\n",
              "      <td>0</td>\n",
              "      <td>0</td>\n",
              "      <td>0</td>\n",
              "      <td>0</td>\n",
              "      <td>0</td>\n",
              "      <td>0</td>\n",
              "      <td>0</td>\n",
              "      <td>0</td>\n",
              "      <td>0</td>\n",
              "      <td>0</td>\n",
              "      <td>0</td>\n",
              "      <td>0</td>\n",
              "      <td>0</td>\n",
              "      <td>0</td>\n",
              "      <td>0</td>\n",
              "      <td>1506807</td>\n",
              "      <td>Santarém</td>\n",
              "      <td>15</td>\n",
              "      <td>PA</td>\n",
              "      <td>1</td>\n",
              "      <td>1</td>\n",
              "      <td>1</td>\n",
              "      <td>1</td>\n",
              "      <td>504.0</td>\n",
              "      <td>509.0</td>\n",
              "      <td>514.0</td>\n",
              "      <td>516.0</td>\n",
              "      <td>472.9</td>\n",
              "      <td>466.0</td>\n",
              "      <td>497.3</td>\n",
              "      <td>369.1</td>\n",
              "      <td>0</td>\n",
              "      <td>1.0</td>\n",
              "      <td>160.0</td>\n",
              "      <td>160.0</td>\n",
              "      <td>160.0</td>\n",
              "      <td>140.0</td>\n",
              "      <td>160.0</td>\n",
              "      <td>780.0</td>\n",
              "    </tr>\n",
              "    <tr>\n",
              "      <th>1</th>\n",
              "      <td>190001004628</td>\n",
              "      <td>2019</td>\n",
              "      <td>1504059</td>\n",
              "      <td>Mãe do Rio</td>\n",
              "      <td>15</td>\n",
              "      <td>PA</td>\n",
              "      <td>16</td>\n",
              "      <td>F</td>\n",
              "      <td>1</td>\n",
              "      <td>3</td>\n",
              "      <td>1</td>\n",
              "      <td>1505502.0</td>\n",
              "      <td>Paragominas</td>\n",
              "      <td>15.0</td>\n",
              "      <td>PA</td>\n",
              "      <td>3</td>\n",
              "      <td>0</td>\n",
              "      <td>1</td>\n",
              "      <td>NaN</td>\n",
              "      <td>1</td>\n",
              "      <td>NaN</td>\n",
              "      <td>NaN</td>\n",
              "      <td>NaN</td>\n",
              "      <td>NaN</td>\n",
              "      <td>NaN</td>\n",
              "      <td>NaN</td>\n",
              "      <td>NaN</td>\n",
              "      <td>NaN</td>\n",
              "      <td>0</td>\n",
              "      <td>0</td>\n",
              "      <td>0</td>\n",
              "      <td>0</td>\n",
              "      <td>0</td>\n",
              "      <td>0</td>\n",
              "      <td>0</td>\n",
              "      <td>0</td>\n",
              "      <td>0</td>\n",
              "      <td>0</td>\n",
              "      <td>0</td>\n",
              "      <td>0</td>\n",
              "      <td>...</td>\n",
              "      <td>0</td>\n",
              "      <td>0</td>\n",
              "      <td>0</td>\n",
              "      <td>0</td>\n",
              "      <td>0</td>\n",
              "      <td>0</td>\n",
              "      <td>0</td>\n",
              "      <td>0</td>\n",
              "      <td>0</td>\n",
              "      <td>0</td>\n",
              "      <td>0</td>\n",
              "      <td>0</td>\n",
              "      <td>0</td>\n",
              "      <td>0</td>\n",
              "      <td>0</td>\n",
              "      <td>0</td>\n",
              "      <td>1504059</td>\n",
              "      <td>Mãe do Rio</td>\n",
              "      <td>15</td>\n",
              "      <td>PA</td>\n",
              "      <td>1</td>\n",
              "      <td>1</td>\n",
              "      <td>1</td>\n",
              "      <td>1</td>\n",
              "      <td>506.0</td>\n",
              "      <td>510.0</td>\n",
              "      <td>513.0</td>\n",
              "      <td>517.0</td>\n",
              "      <td>358.9</td>\n",
              "      <td>495.4</td>\n",
              "      <td>482.3</td>\n",
              "      <td>416.5</td>\n",
              "      <td>1</td>\n",
              "      <td>1.0</td>\n",
              "      <td>120.0</td>\n",
              "      <td>120.0</td>\n",
              "      <td>120.0</td>\n",
              "      <td>120.0</td>\n",
              "      <td>120.0</td>\n",
              "      <td>600.0</td>\n",
              "    </tr>\n",
              "    <tr>\n",
              "      <th>2</th>\n",
              "      <td>190001004629</td>\n",
              "      <td>2019</td>\n",
              "      <td>1505502</td>\n",
              "      <td>Paragominas</td>\n",
              "      <td>15</td>\n",
              "      <td>PA</td>\n",
              "      <td>18</td>\n",
              "      <td>F</td>\n",
              "      <td>1</td>\n",
              "      <td>1</td>\n",
              "      <td>1</td>\n",
              "      <td>1505502.0</td>\n",
              "      <td>Paragominas</td>\n",
              "      <td>15.0</td>\n",
              "      <td>PA</td>\n",
              "      <td>2</td>\n",
              "      <td>0</td>\n",
              "      <td>3</td>\n",
              "      <td>1.0</td>\n",
              "      <td>0</td>\n",
              "      <td>15230023.0</td>\n",
              "      <td>1505502.0</td>\n",
              "      <td>Paragominas</td>\n",
              "      <td>15.0</td>\n",
              "      <td>PA</td>\n",
              "      <td>4.0</td>\n",
              "      <td>1.0</td>\n",
              "      <td>1.0</td>\n",
              "      <td>0</td>\n",
              "      <td>0</td>\n",
              "      <td>0</td>\n",
              "      <td>0</td>\n",
              "      <td>0</td>\n",
              "      <td>0</td>\n",
              "      <td>0</td>\n",
              "      <td>0</td>\n",
              "      <td>0</td>\n",
              "      <td>0</td>\n",
              "      <td>0</td>\n",
              "      <td>0</td>\n",
              "      <td>...</td>\n",
              "      <td>0</td>\n",
              "      <td>0</td>\n",
              "      <td>0</td>\n",
              "      <td>0</td>\n",
              "      <td>0</td>\n",
              "      <td>0</td>\n",
              "      <td>0</td>\n",
              "      <td>0</td>\n",
              "      <td>0</td>\n",
              "      <td>0</td>\n",
              "      <td>0</td>\n",
              "      <td>0</td>\n",
              "      <td>0</td>\n",
              "      <td>0</td>\n",
              "      <td>0</td>\n",
              "      <td>0</td>\n",
              "      <td>1505502</td>\n",
              "      <td>Paragominas</td>\n",
              "      <td>15</td>\n",
              "      <td>PA</td>\n",
              "      <td>1</td>\n",
              "      <td>1</td>\n",
              "      <td>1</td>\n",
              "      <td>1</td>\n",
              "      <td>505.0</td>\n",
              "      <td>510.0</td>\n",
              "      <td>513.0</td>\n",
              "      <td>518.0</td>\n",
              "      <td>574.2</td>\n",
              "      <td>538.7</td>\n",
              "      <td>582.6</td>\n",
              "      <td>571.5</td>\n",
              "      <td>0</td>\n",
              "      <td>1.0</td>\n",
              "      <td>140.0</td>\n",
              "      <td>120.0</td>\n",
              "      <td>120.0</td>\n",
              "      <td>140.0</td>\n",
              "      <td>120.0</td>\n",
              "      <td>640.0</td>\n",
              "    </tr>\n",
              "    <tr>\n",
              "      <th>3</th>\n",
              "      <td>190001004630</td>\n",
              "      <td>2019</td>\n",
              "      <td>1507706</td>\n",
              "      <td>São Sebastião da Boa Vista</td>\n",
              "      <td>15</td>\n",
              "      <td>PA</td>\n",
              "      <td>23</td>\n",
              "      <td>M</td>\n",
              "      <td>0</td>\n",
              "      <td>3</td>\n",
              "      <td>1</td>\n",
              "      <td>1501402.0</td>\n",
              "      <td>Belém</td>\n",
              "      <td>15.0</td>\n",
              "      <td>PA</td>\n",
              "      <td>2</td>\n",
              "      <td>0</td>\n",
              "      <td>2</td>\n",
              "      <td>1.0</td>\n",
              "      <td>0</td>\n",
              "      <td>15027635.0</td>\n",
              "      <td>1507706.0</td>\n",
              "      <td>São Sebastião da Boa Vista</td>\n",
              "      <td>15.0</td>\n",
              "      <td>PA</td>\n",
              "      <td>2.0</td>\n",
              "      <td>1.0</td>\n",
              "      <td>1.0</td>\n",
              "      <td>0</td>\n",
              "      <td>0</td>\n",
              "      <td>0</td>\n",
              "      <td>0</td>\n",
              "      <td>0</td>\n",
              "      <td>0</td>\n",
              "      <td>0</td>\n",
              "      <td>0</td>\n",
              "      <td>0</td>\n",
              "      <td>0</td>\n",
              "      <td>0</td>\n",
              "      <td>0</td>\n",
              "      <td>...</td>\n",
              "      <td>0</td>\n",
              "      <td>0</td>\n",
              "      <td>0</td>\n",
              "      <td>0</td>\n",
              "      <td>0</td>\n",
              "      <td>0</td>\n",
              "      <td>0</td>\n",
              "      <td>0</td>\n",
              "      <td>0</td>\n",
              "      <td>0</td>\n",
              "      <td>0</td>\n",
              "      <td>0</td>\n",
              "      <td>0</td>\n",
              "      <td>0</td>\n",
              "      <td>0</td>\n",
              "      <td>0</td>\n",
              "      <td>1507706</td>\n",
              "      <td>São Sebastião da Boa Vista</td>\n",
              "      <td>15</td>\n",
              "      <td>PA</td>\n",
              "      <td>0</td>\n",
              "      <td>0</td>\n",
              "      <td>0</td>\n",
              "      <td>0</td>\n",
              "      <td>NaN</td>\n",
              "      <td>NaN</td>\n",
              "      <td>NaN</td>\n",
              "      <td>NaN</td>\n",
              "      <td>NaN</td>\n",
              "      <td>NaN</td>\n",
              "      <td>NaN</td>\n",
              "      <td>NaN</td>\n",
              "      <td>1</td>\n",
              "      <td>NaN</td>\n",
              "      <td>NaN</td>\n",
              "      <td>NaN</td>\n",
              "      <td>NaN</td>\n",
              "      <td>NaN</td>\n",
              "      <td>NaN</td>\n",
              "      <td>NaN</td>\n",
              "    </tr>\n",
              "    <tr>\n",
              "      <th>4</th>\n",
              "      <td>190001004631</td>\n",
              "      <td>2019</td>\n",
              "      <td>1503903</td>\n",
              "      <td>Juruti</td>\n",
              "      <td>15</td>\n",
              "      <td>PA</td>\n",
              "      <td>23</td>\n",
              "      <td>M</td>\n",
              "      <td>1</td>\n",
              "      <td>3</td>\n",
              "      <td>1</td>\n",
              "      <td>1503903.0</td>\n",
              "      <td>Juruti</td>\n",
              "      <td>15.0</td>\n",
              "      <td>PA</td>\n",
              "      <td>1</td>\n",
              "      <td>5</td>\n",
              "      <td>1</td>\n",
              "      <td>1.0</td>\n",
              "      <td>0</td>\n",
              "      <td>NaN</td>\n",
              "      <td>NaN</td>\n",
              "      <td>NaN</td>\n",
              "      <td>NaN</td>\n",
              "      <td>NaN</td>\n",
              "      <td>NaN</td>\n",
              "      <td>NaN</td>\n",
              "      <td>NaN</td>\n",
              "      <td>0</td>\n",
              "      <td>0</td>\n",
              "      <td>0</td>\n",
              "      <td>0</td>\n",
              "      <td>0</td>\n",
              "      <td>0</td>\n",
              "      <td>0</td>\n",
              "      <td>0</td>\n",
              "      <td>0</td>\n",
              "      <td>0</td>\n",
              "      <td>0</td>\n",
              "      <td>0</td>\n",
              "      <td>...</td>\n",
              "      <td>0</td>\n",
              "      <td>0</td>\n",
              "      <td>0</td>\n",
              "      <td>0</td>\n",
              "      <td>0</td>\n",
              "      <td>0</td>\n",
              "      <td>0</td>\n",
              "      <td>0</td>\n",
              "      <td>0</td>\n",
              "      <td>0</td>\n",
              "      <td>0</td>\n",
              "      <td>0</td>\n",
              "      <td>0</td>\n",
              "      <td>0</td>\n",
              "      <td>0</td>\n",
              "      <td>0</td>\n",
              "      <td>1503903</td>\n",
              "      <td>Juruti</td>\n",
              "      <td>15</td>\n",
              "      <td>PA</td>\n",
              "      <td>0</td>\n",
              "      <td>0</td>\n",
              "      <td>0</td>\n",
              "      <td>0</td>\n",
              "      <td>NaN</td>\n",
              "      <td>NaN</td>\n",
              "      <td>NaN</td>\n",
              "      <td>NaN</td>\n",
              "      <td>NaN</td>\n",
              "      <td>NaN</td>\n",
              "      <td>NaN</td>\n",
              "      <td>NaN</td>\n",
              "      <td>1</td>\n",
              "      <td>NaN</td>\n",
              "      <td>NaN</td>\n",
              "      <td>NaN</td>\n",
              "      <td>NaN</td>\n",
              "      <td>NaN</td>\n",
              "      <td>NaN</td>\n",
              "      <td>NaN</td>\n",
              "    </tr>\n",
              "  </tbody>\n",
              "</table>\n",
              "<p>5 rows × 103 columns</p>\n",
              "</div>"
            ],
            "text/plain": [
              "   NU_INSCRICAO  NU_ANO  ...  NU_NOTA_COMP5 NU_NOTA_REDACAO\n",
              "0  190001004627    2019  ...          160.0           780.0\n",
              "1  190001004628    2019  ...          120.0           600.0\n",
              "2  190001004629    2019  ...          120.0           640.0\n",
              "3  190001004630    2019  ...            NaN             NaN\n",
              "4  190001004631    2019  ...            NaN             NaN\n",
              "\n",
              "[5 rows x 103 columns]"
            ]
          },
          "metadata": {
            "tags": []
          },
          "execution_count": 9
        }
      ]
    },
    {
      "cell_type": "code",
      "metadata": {
        "id": "Gfyn-QeUIwQH"
      },
      "source": [
        "len(df)"
      ],
      "execution_count": null,
      "outputs": []
    },
    {
      "cell_type": "code",
      "metadata": {
        "id": "wSCU0XtTI1jA"
      },
      "source": [
        "df.info()"
      ],
      "execution_count": null,
      "outputs": []
    },
    {
      "cell_type": "markdown",
      "metadata": {
        "id": "T9WqSe5rIEmW"
      },
      "source": [
        "# Análises do ENEM Ano 2019"
      ]
    },
    {
      "cell_type": "code",
      "metadata": {
        "id": "e2qqr0vLBXq8"
      },
      "source": [
        "df.head()"
      ],
      "execution_count": null,
      "outputs": []
    },
    {
      "cell_type": "code",
      "metadata": {
        "id": "vrk14eJQBXxS"
      },
      "source": [
        "len(df.columns)"
      ],
      "execution_count": null,
      "outputs": []
    },
    {
      "cell_type": "code",
      "metadata": {
        "id": "xNF4siYpVVna"
      },
      "source": [
        "df.TP_COR_RACA.value_counts()"
      ],
      "execution_count": null,
      "outputs": []
    },
    {
      "cell_type": "code",
      "metadata": {
        "id": "wQah9oOtVlfH"
      },
      "source": [
        "l = [ 'Não declarado',\n",
        "      'Branca',\n",
        "      'Preta',\n",
        "      'Parda',\n",
        "      'Amarela',\n",
        "      'Indígena' \n",
        "]\n",
        "l"
      ],
      "execution_count": null,
      "outputs": []
    },
    {
      "cell_type": "code",
      "metadata": {
        "id": "GcAwvWDzWGqN"
      },
      "source": [
        "d = df.TP_COR_RACA.value_counts()\n",
        "d"
      ],
      "execution_count": null,
      "outputs": []
    },
    {
      "cell_type": "code",
      "metadata": {
        "id": "3jXAn18dWSD1"
      },
      "source": [
        "type(d)"
      ],
      "execution_count": null,
      "outputs": []
    },
    {
      "cell_type": "code",
      "metadata": {
        "id": "8DNgOjI9WHjA"
      },
      "source": [
        "dd = d.to_frame()\n",
        "dd"
      ],
      "execution_count": null,
      "outputs": []
    },
    {
      "cell_type": "code",
      "metadata": {
        "id": "dqhVaeD2XMi9"
      },
      "source": [
        "ind = dd.index.values\n",
        "ind"
      ],
      "execution_count": null,
      "outputs": []
    },
    {
      "cell_type": "code",
      "metadata": {
        "id": "dt255PazXNje"
      },
      "source": [
        "dd['cod'] = ind\n",
        "dd"
      ],
      "execution_count": null,
      "outputs": []
    },
    {
      "cell_type": "code",
      "metadata": {
        "id": "6plLy6isXNua"
      },
      "source": [
        "l"
      ],
      "execution_count": null,
      "outputs": []
    },
    {
      "cell_type": "code",
      "metadata": {
        "id": "l39VI1m6ZSNu"
      },
      "source": [
        "dict = {'Não declarado': 0 , 'Branca': 1, 'Preta': 2, 'Parda': 3, 'Amarela': 4, 'Indígena': 5}"
      ],
      "execution_count": null,
      "outputs": []
    },
    {
      "cell_type": "code",
      "metadata": {
        "id": "Bxs6ofMuZKiJ"
      },
      "source": [
        "d2 =  pd.DataFrame( {'codigo' : range(6), 'raca': l }) \n",
        "d2"
      ],
      "execution_count": null,
      "outputs": []
    },
    {
      "cell_type": "code",
      "metadata": {
        "id": "H1nsJluaanTU"
      },
      "source": [
        "d3 = pd.merge(dd, d2, how='inner', left_on='cod', right_on='codigo')\n",
        "d3"
      ],
      "execution_count": null,
      "outputs": []
    },
    {
      "cell_type": "code",
      "metadata": {
        "id": "fnMQOOagc8Q8"
      },
      "source": [
        "d3.to_csv('enem-por-raca.csv', index=False)\n",
        "!ls -ilah *.csv"
      ],
      "execution_count": null,
      "outputs": []
    },
    {
      "cell_type": "code",
      "metadata": {
        "id": "3BQnCQUEdIOg"
      },
      "source": [
        "!cat enem-por-raca.csv"
      ],
      "execution_count": null,
      "outputs": []
    },
    {
      "cell_type": "code",
      "metadata": {
        "id": "Rrh8NinMd9Jx"
      },
      "source": [
        "from google.colab import files\n",
        "files.download('enem-por-raca.csv')"
      ],
      "execution_count": null,
      "outputs": []
    },
    {
      "cell_type": "code",
      "metadata": {
        "id": "1Fg6zMUfZ4h-"
      },
      "source": [
        "import matplotlib.pyplot as plt\n",
        "\n",
        "# Pie chart, where the slices will be ordered and plotted counter-clockwise:\n",
        "labels = d3.raca\n",
        "sizes = d3.TP_COR_RACA\n",
        "explode = (0, 0.1, 0, 0.1, 0, 0.1)  # only \"explode\" the 2nd slice (i.e. 'Hogs')\n",
        "\n",
        "fig1, ax1 = plt.subplots(figsize=(12,8))\n",
        "\n",
        "plt.figure(figsize=(12,8)) \n",
        "ax1.pie(sizes, explode=explode, labels=labels, autopct='%1.1f%%',\n",
        "        shadow=True, startangle=90)\n",
        "ax1.axis('equal')  # Equal aspect ratio ensures that pie is drawn as a circle.\n",
        "\n",
        "plt.show()"
      ],
      "execution_count": null,
      "outputs": []
    },
    {
      "cell_type": "code",
      "metadata": {
        "id": "iG_rQGAJZ4om"
      },
      "source": [
        ""
      ],
      "execution_count": null,
      "outputs": []
    },
    {
      "cell_type": "code",
      "metadata": {
        "id": "1K36qxelZ403"
      },
      "source": [
        ""
      ],
      "execution_count": null,
      "outputs": []
    },
    {
      "cell_type": "code",
      "metadata": {
        "id": "TdfUsKwuXOL5"
      },
      "source": [
        ""
      ],
      "execution_count": null,
      "outputs": []
    },
    {
      "cell_type": "code",
      "metadata": {
        "id": "y8nmpYsCXOU5"
      },
      "source": [
        ""
      ],
      "execution_count": null,
      "outputs": []
    },
    {
      "cell_type": "code",
      "metadata": {
        "id": "M_HllMWdXOZs"
      },
      "source": [
        ""
      ],
      "execution_count": null,
      "outputs": []
    },
    {
      "cell_type": "code",
      "metadata": {
        "id": "Uxs2Ykwb4d4t"
      },
      "source": [
        "atributos = [\n",
        " 'UF_RESIDENCIA',\n",
        " 'IDADE',\n",
        " 'TP_SEXO',\n",
        " 'NACIONALIDADE',\n",
        " 'NO_MUNICIPIO_NASCIMENTO',\n",
        " 'UF_NASCIMENTO',\n",
        " 'ST_CONCLUSAO',\n",
        " 'ANO_CONCLUIU',\n",
        " 'TP_ESCOLA',\n",
        " 'TP_ESTADO_CIVIL',\n",
        " 'UF_PROVA',\n",
        " 'NOTA_CN',\n",
        " 'NOTA_CH',\n",
        " 'NOTA_LC',\n",
        " 'NOTA_MT',\n",
        " 'TP_LINGUA',\n",
        " 'IN_STATUS_REDACAO',\n",
        " 'NU_NOTA_COMP1',\n",
        " 'NU_NOTA_COMP2',\n",
        " 'NU_NOTA_COMP3',\n",
        " 'NU_NOTA_COMP4',\n",
        " 'NU_NOTA_COMP5',\n",
        "'NU_NOTA_REDACAO']\n",
        "\n",
        "import numpy as np\n",
        "tipos_de_dados = {'IDADE': np.float16,\n",
        "        'NACIONALIDADE': np.int16,\n",
        "        'ST_CONCLUSAO':  np.int16,\n",
        "        'ANO_CONCLUIU': np.float32, \n",
        "        'TP_ESCOLA': np.float32, \n",
        "        'TP_ESTADO_CIVIL': np.int16,\n",
        "        'NOTA_CN':np.float32, \n",
        "        'NOTA_CH': np.float32, \n",
        "        'NOTA_LC': np.float32, \n",
        "        'NOTA_MT': np.float32,                                     \n",
        "        'NU_NOTA_COMP1': np.int32,\n",
        "        'NU_NOTA_COMP2': np.int32,             \n",
        "        'NU_NOTA_COMP3': np.int32,            \n",
        "        'NU_NOTA_COMP4': np.int32,            \n",
        "        'NU_NOTA_COMP5': np.int32\n",
        "}"
      ],
      "execution_count": null,
      "outputs": []
    },
    {
      "cell_type": "code",
      "metadata": {
        "id": "CcbU69eW4d4z"
      },
      "source": [
        "#%%time\n",
        "#import pandas as pd\n",
        "#file = url\n",
        "#folder = '/Users/vladimiralencar/Downloads/microdados_enem2014/DADOS/'\n",
        "\n",
        "#df = pd.read_csv(folder + file, encoding='latin-1', usecols=atributos, dtype=tipos_de_dados)\n",
        "#df = pd.read_csv(url+ file, encoding='latin-1', delimiter=';') #, usecols=atributos, dtype=tipos_de_dados)\n",
        "#len(df)"
      ],
      "execution_count": null,
      "outputs": []
    },
    {
      "cell_type": "code",
      "metadata": {
        "id": "tMVM_daW4d44"
      },
      "source": [
        "df.info()"
      ],
      "execution_count": null,
      "outputs": []
    },
    {
      "cell_type": "code",
      "metadata": {
        "id": "x9Mi15H04d44"
      },
      "source": [
        "print(list(df.columns))"
      ],
      "execution_count": null,
      "outputs": []
    },
    {
      "cell_type": "code",
      "metadata": {
        "id": "bzXGlQZI4d45"
      },
      "source": [
        "len(df.columns)"
      ],
      "execution_count": null,
      "outputs": []
    },
    {
      "cell_type": "code",
      "metadata": {
        "scrolled": true,
        "id": "OLcIsXgS4d46"
      },
      "source": [
        "pd.set_option('display.max_columns', 500)\n",
        "\n",
        "df10 = df.copy()\n",
        "#df10 = df [atributos]\n",
        "#del df\n",
        "df10.head()"
      ],
      "execution_count": null,
      "outputs": []
    },
    {
      "cell_type": "code",
      "metadata": {
        "id": "2Pd4J5pe4d47"
      },
      "source": [
        "len(df10.NO_MUNICIPIO_RESIDENCIA.unique())"
      ],
      "execution_count": null,
      "outputs": []
    },
    {
      "cell_type": "code",
      "metadata": {
        "id": "BuOkgtgJ4d48"
      },
      "source": [
        "pd.options.display.float_format = '{:,.2f}'.format\n",
        "df10.NU_IDADE.describe()"
      ],
      "execution_count": null,
      "outputs": []
    },
    {
      "cell_type": "code",
      "metadata": {
        "id": "1D3FF0GE4d48"
      },
      "source": [
        "import seaborn as sns\n",
        "sns.distplot(df10.NU_IDADE)"
      ],
      "execution_count": null,
      "outputs": []
    },
    {
      "cell_type": "code",
      "metadata": {
        "id": "ris6xx2I4d4-"
      },
      "source": [
        "df10.NU_IDADE.describe()"
      ],
      "execution_count": null,
      "outputs": []
    },
    {
      "cell_type": "code",
      "metadata": {
        "id": "y2ipE45E4d4-"
      },
      "source": [
        "# Fatiar o dataset\n",
        "df2 = df10[ df10.NU_IDADE >= 40]\n",
        "len(df2)"
      ],
      "execution_count": null,
      "outputs": []
    },
    {
      "cell_type": "code",
      "metadata": {
        "id": "o71cNFYI4d4-"
      },
      "source": [
        "len(df2) / len(df10) * 100"
      ],
      "execution_count": null,
      "outputs": []
    },
    {
      "cell_type": "code",
      "metadata": {
        "id": "8ZnBy8wz4d4_"
      },
      "source": [
        "%%time\n",
        "df3 = df2[ df2.NU_IDADE >= 80]\n",
        "len(df3)"
      ],
      "execution_count": null,
      "outputs": []
    },
    {
      "cell_type": "code",
      "metadata": {
        "id": "Ppc3_dW54d4_"
      },
      "source": [
        "df3.head(10)"
      ],
      "execution_count": null,
      "outputs": []
    },
    {
      "cell_type": "code",
      "metadata": {
        "id": "hPUpHDXJ4d5A"
      },
      "source": [
        "# Idades >80 por Estado\n",
        "df3.SG_UF_RESIDENCIA.value_counts()"
      ],
      "execution_count": null,
      "outputs": []
    },
    {
      "cell_type": "code",
      "metadata": {
        "id": "sJEjM6Pd4d5A"
      },
      "source": [
        "# Fatiar o dataset\n",
        "df16 = df10[ df10.NU_IDADE <= 16]\n",
        "len(df16)"
      ],
      "execution_count": null,
      "outputs": []
    },
    {
      "cell_type": "code",
      "metadata": {
        "id": "RAr2vW814d5B"
      },
      "source": [
        "pd.options.display.float_format = '{:,.2f}'.format\n",
        "df16.SG_UF_RESIDENCIA.value_counts()"
      ],
      "execution_count": null,
      "outputs": []
    },
    {
      "cell_type": "code",
      "metadata": {
        "id": "PMSEH0nk4d5B"
      },
      "source": [
        "len(df11),  df11.NU_IDADE.min(), df11.NU_IDADE.max()"
      ],
      "execution_count": null,
      "outputs": []
    },
    {
      "cell_type": "code",
      "metadata": {
        "id": "u4muq4Ju4d5B"
      },
      "source": [
        "len(df10)"
      ],
      "execution_count": null,
      "outputs": []
    },
    {
      "cell_type": "code",
      "metadata": {
        "id": "eLzbPnWO4d5C"
      },
      "source": [
        "df10.NU_IDADE.min(), df10.NU_IDADE.mean(), df10.NU_IDADE.max(), "
      ],
      "execution_count": null,
      "outputs": []
    },
    {
      "cell_type": "markdown",
      "metadata": {
        "id": "PnO-YRCc4d5C"
      },
      "source": [
        "# Análise Descritiva"
      ]
    },
    {
      "cell_type": "code",
      "metadata": {
        "id": "rpPOZPRK4d5C"
      },
      "source": [
        "%%time\n",
        "pd.set_option('display.max_columns', 500)\n",
        "df12 = df10.dropna(subset=['NU_NOTA_REDACAO'])\n",
        "print(len(df12), len(df10))"
      ],
      "execution_count": null,
      "outputs": []
    },
    {
      "cell_type": "code",
      "metadata": {
        "id": "2NbS1d244d5D"
      },
      "source": [
        "%%time\n",
        "import seaborn as sns\n",
        "sns.distplot(df12['NU_NOTA_REDACAO'])"
      ],
      "execution_count": null,
      "outputs": []
    },
    {
      "cell_type": "code",
      "metadata": {
        "id": "1ZuPowwZ4d5E"
      },
      "source": [
        "(df12['NU_NOTA_REDACAO'] <= 0).sum()"
      ],
      "execution_count": null,
      "outputs": []
    },
    {
      "cell_type": "code",
      "metadata": {
        "id": "gm59Uu3B4d5E"
      },
      "source": [
        "(df12['NU_NOTA_REDACAO'] >= 1000).sum()"
      ],
      "execution_count": null,
      "outputs": []
    },
    {
      "cell_type": "code",
      "metadata": {
        "id": "gsHVJXDI4d5L"
      },
      "source": [
        "df13 = df12[ df12['NU_NOTA_REDACAO'] >= 1000]\n",
        "df13"
      ],
      "execution_count": null,
      "outputs": []
    },
    {
      "cell_type": "code",
      "metadata": {
        "id": "rmlx06KK4d5N"
      },
      "source": [
        "dg = df13.groupby(['SG_UF_RESIDENCIA'])['NU_NOTA_REDACAO'].agg(['count']).sort_values(by='count', ascending=False)"
      ],
      "execution_count": null,
      "outputs": []
    },
    {
      "cell_type": "code",
      "metadata": {
        "id": "kGi_br1L4d5O"
      },
      "source": [
        "dg = dg.reset_index() \n",
        "dg"
      ],
      "execution_count": null,
      "outputs": []
    },
    {
      "cell_type": "code",
      "metadata": {
        "id": "WP0rQcHG4d5S"
      },
      "source": [
        "df10.head()"
      ],
      "execution_count": null,
      "outputs": []
    },
    {
      "cell_type": "code",
      "metadata": {
        "id": "DywCM_Ti4d5S"
      },
      "source": [
        "df10.TP_SEXO.value_counts()"
      ],
      "execution_count": null,
      "outputs": []
    },
    {
      "cell_type": "code",
      "metadata": {
        "id": "FFMJxo-n4d5U"
      },
      "source": [
        " 3031822 / (3031822 + 2063448) # 59.5 % de alunos do sexo feminino\n",
        "    "
      ],
      "execution_count": null,
      "outputs": []
    },
    {
      "cell_type": "code",
      "metadata": {
        "id": "WXq-SJ8G4d5U"
      },
      "source": [
        ""
      ],
      "execution_count": null,
      "outputs": []
    },
    {
      "cell_type": "code",
      "metadata": {
        "id": "cjDnXadU4d5V"
      },
      "source": [
        "df10.columns"
      ],
      "execution_count": null,
      "outputs": []
    },
    {
      "cell_type": "code",
      "metadata": {
        "id": "krCAl-sn4d5V"
      },
      "source": [
        "atributos = list(df10.columns.values)\n",
        "print(atributos)"
      ],
      "execution_count": null,
      "outputs": []
    },
    {
      "cell_type": "code",
      "metadata": {
        "id": "JQxW-Kaz4d5X"
      },
      "source": [
        "atributos_compactado = ['NU_INSCRICAO', 'NU_ANO', 'CO_MUNICIPIO_RESIDENCIA', 'NO_MUNICIPIO_RESIDENCIA', 'CO_UF_RESIDENCIA', 'SG_UF_RESIDENCIA', 'NU_IDADE', 'TP_SEXO', 'TP_ESTADO_CIVIL', 'TP_COR_RACA', 'TP_NACIONALIDADE', 'CO_MUNICIPIO_NASCIMENTO', 'NO_MUNICIPIO_NASCIMENTO', 'CO_UF_NASCIMENTO', 'SG_UF_NASCIMENTO', 'TP_ST_CONCLUSAO', 'TP_ANO_CONCLUIU', 'TP_ESCOLA', 'TP_ENSINO', 'IN_TREINEIRO', 'CO_ESCOLA', 'CO_MUNICIPIO_ESC', 'NO_MUNICIPIO_ESC', 'CO_UF_ESC', 'SG_UF_ESC', 'TP_DEPENDENCIA_ADM_ESC', 'TP_LOCALIZACAO_ESC', 'TP_SIT_FUNC_ESC', 'IN_BAIXA_VISAO', 'IN_CEGUEIRA', 'IN_SURDEZ', 'IN_DEFICIENCIA_AUDITIVA', 'IN_SURDO_CEGUEIRA', 'IN_DEFICIENCIA_FISICA', 'IN_DEFICIENCIA_MENTAL', 'IN_DEFICIT_ATENCAO', 'IN_DISLEXIA', 'IN_DISCALCULIA', 'IN_AUTISMO', 'IN_VISAO_MONOCULAR', 'IN_OUTRA_DEF', 'IN_GESTANTE', 'IN_LACTANTE', 'IN_IDOSO', 'IN_ESTUDA_CLASSE_HOSPITALAR', 'IN_SEM_RECURSO', 'IN_BRAILLE', 'IN_AMPLIADA_24', 'IN_AMPLIADA_18', 'IN_LEDOR', 'IN_ACESSO', 'IN_TRANSCRICAO', 'IN_LIBRAS', 'IN_TEMPO_ADICIONAL', 'IN_LEITURA_LABIAL', 'IN_MESA_CADEIRA_RODAS', 'IN_MESA_CADEIRA_SEPARADA', 'IN_APOIO_PERNA', 'IN_GUIA_INTERPRETE', 'IN_COMPUTADOR', 'IN_CADEIRA_ESPECIAL', 'IN_CADEIRA_CANHOTO', 'IN_CADEIRA_ACOLCHOADA', 'IN_PROVA_DEITADO', 'IN_MOBILIARIO_OBESO', 'IN_LAMINA_OVERLAY', 'IN_PROTETOR_AURICULAR', 'IN_MEDIDOR_GLICOSE', 'IN_MAQUINA_BRAILE', 'IN_SOROBAN', 'IN_MARCA_PASSO', 'IN_SONDA', 'IN_MEDICAMENTOS', 'IN_SALA_INDIVIDUAL', 'IN_SALA_ESPECIAL', 'IN_SALA_ACOMPANHANTE', 'IN_MOBILIARIO_ESPECIFICO', 'IN_MATERIAL_ESPECIFICO', 'IN_NOME_SOCIAL', 'CO_MUNICIPIO_PROVA', 'NO_MUNICIPIO_PROVA', 'CO_UF_PROVA', 'SG_UF_PROVA', \n",
        "                        'TP_PRESENCA_CN', 'TP_PRESENCA_CH', 'TP_PRESENCA_LC', 'TP_PRESENCA_MT', \n",
        "                        'CO_PROVA_CN', 'CO_PROVA_CH', 'CO_PROVA_LC', 'CO_PROVA_MT', 'NU_NOTA_CN', 'NU_NOTA_CH', 'NU_NOTA_LC', 'NU_NOTA_MT',\n",
        "                         'TP_LINGUA',  'TP_STATUS_REDACAO', 'NU_NOTA_COMP1', 'NU_NOTA_COMP2', 'NU_NOTA_COMP3', \n",
        "                        'NU_NOTA_COMP4', 'NU_NOTA_COMP5', 'NU_NOTA_REDACAO']"
      ],
      "execution_count": null,
      "outputs": []
    },
    {
      "cell_type": "code",
      "metadata": {
        "id": "oRbgwV_T4d5Z"
      },
      "source": [
        "dfc.head()"
      ],
      "execution_count": null,
      "outputs": []
    },
    {
      "cell_type": "code",
      "metadata": {
        "id": "nW-x1Hz54d5Z"
      },
      "source": [
        "%%time\n",
        "dfc = df10[atributos_compactado]\n",
        "dfc.info()"
      ],
      "execution_count": null,
      "outputs": []
    },
    {
      "cell_type": "code",
      "metadata": {
        "id": "DlsI0qQ94d5a"
      },
      "source": [
        "%%time\n",
        "dfc.to_csv('enem-2019.csv', index=False)\n",
        "!ls -ilah"
      ],
      "execution_count": null,
      "outputs": []
    },
    {
      "cell_type": "code",
      "metadata": {
        "id": "BvdgC0EG4d5a"
      },
      "source": [
        "# Dataset ENEM: https://www.gov.br/inep/pt-br/acesso-a-informacao/dados-abertos/microdados/enem"
      ],
      "execution_count": null,
      "outputs": []
    },
    {
      "cell_type": "code",
      "metadata": {
        "id": "BMKu8j_Q4d5a"
      },
      "source": [
        "dg.loc[-1] = [\"BA\", 0] \n",
        "dg.index = dg.index + 1  # shifting index\n",
        "dg = dg.sort_index()  # sorting by index\n",
        "dg"
      ],
      "execution_count": null,
      "outputs": []
    },
    {
      "cell_type": "code",
      "metadata": {
        "id": "cXn1K5VV4d5b"
      },
      "source": [
        "dg.to_csv('Nota_redacao_1000.csv', index=False)"
      ],
      "execution_count": null,
      "outputs": []
    },
    {
      "cell_type": "code",
      "metadata": {
        "id": "Psg6izYI4d5c"
      },
      "source": [
        "!ls"
      ],
      "execution_count": null,
      "outputs": []
    },
    {
      "cell_type": "code",
      "metadata": {
        "id": "lQOfE8ki4d5c"
      },
      "source": [
        "import numpy as np\n",
        "np.set_printoptions(suppress=True, precision=5)\n",
        "pd.options.display.float_format = '{:,.2f}'.format\n",
        "df12['NU_NOTA_REDACAO'].describe()"
      ],
      "execution_count": null,
      "outputs": []
    },
    {
      "cell_type": "code",
      "metadata": {
        "id": "nklq2Lxw4d5c"
      },
      "source": [
        "print(list(df12.columns))"
      ],
      "execution_count": null,
      "outputs": []
    },
    {
      "cell_type": "code",
      "metadata": {
        "id": "H2QbvL3s4d5d"
      },
      "source": [
        "df12['NU_NOTA_REDACAO'].min(), df12['NU_NOTA_REDACAO'].mean(), df12['NU_NOTA_REDACAO'].max()"
      ],
      "execution_count": null,
      "outputs": []
    },
    {
      "cell_type": "code",
      "metadata": {
        "id": "WnA0Tg074d5d"
      },
      "source": [
        "%%time\n",
        "# quem tirou acima da média na redação\n",
        "df2 = df12 [ df12['NU_NOTA_REDACAO'] > df12['NU_NOTA_REDACAO'].mean() ]\n",
        "len(df2)"
      ],
      "execution_count": null,
      "outputs": []
    },
    {
      "cell_type": "code",
      "metadata": {
        "id": "OaQFXqJu4d5d"
      },
      "source": [
        "%%time\n",
        "dfn = df12 [ df12['NU_NOTA_REDACAO'] <= 0. ]\n",
        "dfn.head()"
      ],
      "execution_count": null,
      "outputs": []
    },
    {
      "cell_type": "code",
      "metadata": {
        "id": "BYtj-3ww4d5d"
      },
      "source": [
        "len(dfn)"
      ],
      "execution_count": null,
      "outputs": []
    },
    {
      "cell_type": "code",
      "metadata": {
        "id": "FU-37ETh4d5e"
      },
      "source": [
        "dfn.NO_MUNICIPIO_NASCIMENTO.value_counts()[:30]"
      ],
      "execution_count": null,
      "outputs": []
    },
    {
      "cell_type": "code",
      "metadata": {
        "id": "orIyu38K4d5e"
      },
      "source": [
        "df10.TP_ESCOLA.value_counts()"
      ],
      "execution_count": null,
      "outputs": []
    },
    {
      "cell_type": "code",
      "metadata": {
        "id": "Q8tVmgDa4d5e"
      },
      "source": [
        "df.NO_MUNICIPIO_RESIDENCIA.value_counts()[:40]"
      ],
      "execution_count": null,
      "outputs": []
    },
    {
      "cell_type": "code",
      "metadata": {
        "id": "8l9IphDV4d5f"
      },
      "source": [
        "df.SG_UF_RESIDENCIA.value_counts()"
      ],
      "execution_count": null,
      "outputs": []
    },
    {
      "cell_type": "code",
      "metadata": {
        "id": "6a980fKd4d5i"
      },
      "source": [
        "dfuf = df10.SG_UF_RESIDENCIA.value_counts()\n",
        "dfuf = dfuf.reset_index()\n",
        "dfuf.rename(columns={'index':'UF', 'UF_RESIDENCIA': 'NumInscritos' }, inplace=True)\n",
        "dfuf.head()"
      ],
      "execution_count": null,
      "outputs": []
    },
    {
      "cell_type": "code",
      "metadata": {
        "id": "j4WVfZi54d5i"
      },
      "source": [
        "dfuf.to_csv('alunosuf.csv', index=False)"
      ],
      "execution_count": null,
      "outputs": []
    },
    {
      "cell_type": "code",
      "metadata": {
        "scrolled": true,
        "id": "YbKhdETE4d5i"
      },
      "source": [
        "df2 = df10.groupby(['SG_UF_RESIDENCIA', 'TP_SEXO'])['NU_NOTA_REDACAO'].agg(['mean']).sort_values(by='mean', ascending=False)\n",
        "df2 = df2.reset_index()\n",
        "df2.head(20)"
      ],
      "execution_count": null,
      "outputs": []
    },
    {
      "cell_type": "code",
      "metadata": {
        "id": "2d1UbD9S4d5i"
      },
      "source": [
        "df3 = df2.copy()\n",
        "df3.rename(columns={'mean': 'Media'}, inplace=True)\n",
        "df3.head(15)"
      ],
      "execution_count": null,
      "outputs": []
    },
    {
      "cell_type": "code",
      "metadata": {
        "id": "dgX2_RGs4d5j"
      },
      "source": [
        "df4 = df3.groupby(['SG_UF_RESIDENCIA'])['Media'].agg(['mean'])\n",
        "df4 = df4.reset_index()\n",
        "df4.sort_values(by='mean', ascending=False).reset_index()"
      ],
      "execution_count": null,
      "outputs": []
    },
    {
      "cell_type": "code",
      "metadata": {
        "id": "4acsJTti4d5j"
      },
      "source": [
        "tipo_prova = 'NU_NOTA_MT'\n",
        "df2 = df.groupby(['SG_UF_RESIDENCIA', 'TP_SEXO'])[tipo_prova].agg(['mean']).sort_values(by='mean', ascending=False)\n",
        "df2 = df2.reset_index()\n",
        "df2.head(20)"
      ],
      "execution_count": null,
      "outputs": []
    },
    {
      "cell_type": "code",
      "metadata": {
        "id": "p-HVkDLe4d5j"
      },
      "source": [
        "tipo_prova = 'NU_NOTA_CH'\n",
        "df2 = df.groupby(['SG_UF_RESIDENCIA', 'TP_SEXO'])[tipo_prova].agg(['mean']).sort_values(by='mean', ascending=False)\n",
        "df2 = df2.reset_index()\n",
        "df2.head(20)"
      ],
      "execution_count": null,
      "outputs": []
    },
    {
      "cell_type": "code",
      "metadata": {
        "id": "B7tRp50f4d5j"
      },
      "source": [
        "df2.head(20)"
      ],
      "execution_count": null,
      "outputs": []
    },
    {
      "cell_type": "code",
      "metadata": {
        "id": "FipO1Pt-4d5j"
      },
      "source": [
        "!ls"
      ],
      "execution_count": null,
      "outputs": []
    },
    {
      "cell_type": "code",
      "metadata": {
        "id": "MJU5vevn4d5k"
      },
      "source": [
        "list(df.columns)"
      ],
      "execution_count": null,
      "outputs": []
    },
    {
      "cell_type": "code",
      "metadata": {
        "id": "X6GjzIGd4d5k"
      },
      "source": [
        "folder = 'DADOS/'\n",
        "dfuf = pd.read_excel(folder + 'UF.xlsx')\n",
        "dfuf.head()"
      ],
      "execution_count": null,
      "outputs": []
    },
    {
      "cell_type": "code",
      "metadata": {
        "id": "nYvfrHci4d5l"
      },
      "source": [
        "folder = 'DADOS/'\n",
        "dfregioes = pd.read_csv(folder + \"Regioes.csv\")\n",
        "dfregioes"
      ],
      "execution_count": null,
      "outputs": []
    },
    {
      "cell_type": "code",
      "metadata": {
        "id": "pAj0Lwii4d5l"
      },
      "source": [
        "df2.head()"
      ],
      "execution_count": null,
      "outputs": []
    },
    {
      "cell_type": "code",
      "metadata": {
        "id": "FenjUwLH4d5l"
      },
      "source": [
        "dfregioes.head()"
      ],
      "execution_count": null,
      "outputs": []
    },
    {
      "cell_type": "code",
      "metadata": {
        "id": "eIayUBCr4d5l"
      },
      "source": [
        "df3 = pd.merge(df2, dfregioes, left_on=['SG_UF_RESIDENCIA'], right_on=['UF_RESIDENCIA'] ) \n",
        "df3.head()"
      ],
      "execution_count": null,
      "outputs": []
    },
    {
      "cell_type": "code",
      "metadata": {
        "id": "TWG9655I4d5l"
      },
      "source": [
        "df4 = df3.groupby(['Região', 'TP_SEXO'])['mean'].agg(['sum','mean']).sort_values(by='mean', ascending=False)\n",
        "df4 = df4.reset_index()\n",
        "df4"
      ],
      "execution_count": null,
      "outputs": []
    },
    {
      "cell_type": "code",
      "metadata": {
        "id": "Z3vcr5py4d5m"
      },
      "source": [
        "#df2.to_csv('nota_redacao_enem_Sexo.csv', index=False)\n",
        "df4.to_csv('enem_redacao_enem_Sexo_regioes.csv', index=False)"
      ],
      "execution_count": null,
      "outputs": []
    },
    {
      "cell_type": "code",
      "metadata": {
        "id": "OA4Epphg4d5m"
      },
      "source": [
        "df.head()"
      ],
      "execution_count": null,
      "outputs": []
    },
    {
      "cell_type": "code",
      "metadata": {
        "id": "TqLH5G6c4d5n"
      },
      "source": [
        "df3 = df12.groupby(['SG_UF_RESIDENCIA', 'TP_SEXO'])['NU_NOTA_REDACAO'].agg(['mean']).sort_values(by='mean', ascending=False)\n",
        "df3 = df3.reset_index()\n",
        "df3.head()"
      ],
      "execution_count": null,
      "outputs": []
    },
    {
      "cell_type": "code",
      "metadata": {
        "id": "jRXgc_XK4d5n"
      },
      "source": [
        "df.info()"
      ],
      "execution_count": null,
      "outputs": []
    },
    {
      "cell_type": "code",
      "metadata": {
        "id": "iKsKVBQn4d5n"
      },
      "source": [
        "df4 = df3.SG_UF_RESIDENCIA\n",
        "#df4.to_excel('UF.xlsx')\n",
        "df4.head()"
      ],
      "execution_count": null,
      "outputs": []
    },
    {
      "cell_type": "code",
      "metadata": {
        "id": "CgMtJ_JT4d5o"
      },
      "source": [
        "!ls"
      ],
      "execution_count": null,
      "outputs": []
    },
    {
      "cell_type": "markdown",
      "metadata": {
        "id": "8qhSLPZB4d5o"
      },
      "source": [
        "# Agora usar o tableau para plotagem de mapas e gráficos\n",
        "https://public.tableau.com/pt-br/s/"
      ]
    }
  ]
}